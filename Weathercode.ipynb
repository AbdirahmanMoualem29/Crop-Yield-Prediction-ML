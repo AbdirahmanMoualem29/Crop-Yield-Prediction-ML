{
 "cells": [
  {
   "cell_type": "markdown",
   "metadata": {
    "colab_type": "text",
    "id": "view-in-github"
   },
   "source": [
    "<a href=\"https://colab.research.google.com/github/AbdirahmanMoualem29/Crop-Yield-Prediction-ML/blob/main/Weathercode.ipynb\" target=\"_parent\"><img src=\"https://colab.research.google.com/assets/colab-badge.svg\" alt=\"Open In Colab\"/></a>"
   ]
  },
  {
   "cell_type": "code",
   "execution_count": 3,
   "metadata": {
    "id": "Zf9z_07ns6hZ"
   },
   "outputs": [],
   "source": [
    "import pandas as pd\n",
    "\n",
    "# Assuming the uploaded file name is 'your_file_name.csv'\n",
    "weather = pd.read_csv(\"John Glenn Airport.csv\", index_col = \"DATE\")"
   ]
  },
  {
   "cell_type": "code",
   "execution_count": 4,
   "metadata": {
    "id": "MtmBXWjltJ6n"
   },
   "outputs": [],
   "source": [
    "null_pct = weather.apply(pd.isnull).sum()/weather.shape[0]"
   ]
  },
  {
   "cell_type": "code",
   "execution_count": 5,
   "metadata": {
    "id": "qKaA3pVdtQAL"
   },
   "outputs": [],
   "source": [
    "## remove allt he colum where the null is to high\n",
    "valid_columns = weather.columns[null_pct < 0.05]"
   ]
  },
  {
   "cell_type": "code",
   "execution_count": 6,
   "metadata": {
    "colab": {
     "base_uri": "https://localhost:8080/"
    },
    "id": "g3yw1PCLuMP9",
    "outputId": "e8a2c307-36c6-46d4-c98a-028e51dcd848"
   },
   "outputs": [
    {
     "data": {
      "text/plain": [
       "Index(['STATION', 'NAME', 'PRCP', 'SNOW', 'SNWD', 'TMAX', 'TMIN'], dtype='object')"
      ]
     },
     "execution_count": 6,
     "metadata": {},
     "output_type": "execute_result"
    }
   ],
   "source": [
    "valid_columns"
   ]
  },
  {
   "cell_type": "code",
   "execution_count": 7,
   "metadata": {
    "id": "T2az-lOqtUua"
   },
   "outputs": [],
   "source": [
    "weather = weather[valid_columns].copy()"
   ]
  },
  {
   "cell_type": "code",
   "execution_count": 8,
   "metadata": {},
   "outputs": [
    {
     "data": {
      "text/html": [
       "<div>\n",
       "<style scoped>\n",
       "    .dataframe tbody tr th:only-of-type {\n",
       "        vertical-align: middle;\n",
       "    }\n",
       "\n",
       "    .dataframe tbody tr th {\n",
       "        vertical-align: top;\n",
       "    }\n",
       "\n",
       "    .dataframe thead th {\n",
       "        text-align: right;\n",
       "    }\n",
       "</style>\n",
       "<table border=\"1\" class=\"dataframe\">\n",
       "  <thead>\n",
       "    <tr style=\"text-align: right;\">\n",
       "      <th></th>\n",
       "      <th>STATION</th>\n",
       "      <th>NAME</th>\n",
       "      <th>PRCP</th>\n",
       "      <th>SNOW</th>\n",
       "      <th>SNWD</th>\n",
       "      <th>TMAX</th>\n",
       "      <th>TMIN</th>\n",
       "    </tr>\n",
       "    <tr>\n",
       "      <th>DATE</th>\n",
       "      <th></th>\n",
       "      <th></th>\n",
       "      <th></th>\n",
       "      <th></th>\n",
       "      <th></th>\n",
       "      <th></th>\n",
       "      <th></th>\n",
       "    </tr>\n",
       "  </thead>\n",
       "  <tbody>\n",
       "    <tr>\n",
       "      <th>1/1/1970</th>\n",
       "      <td>USW00014821</td>\n",
       "      <td>JOHN GLENN INTERNATIONAL AIRPORT, OH US</td>\n",
       "      <td>0.14</td>\n",
       "      <td>2.2</td>\n",
       "      <td>1.0</td>\n",
       "      <td>31</td>\n",
       "      <td>26</td>\n",
       "    </tr>\n",
       "    <tr>\n",
       "      <th>1/2/1970</th>\n",
       "      <td>USW00014821</td>\n",
       "      <td>JOHN GLENN INTERNATIONAL AIRPORT, OH US</td>\n",
       "      <td>0.06</td>\n",
       "      <td>1.5</td>\n",
       "      <td>2.0</td>\n",
       "      <td>30</td>\n",
       "      <td>24</td>\n",
       "    </tr>\n",
       "    <tr>\n",
       "      <th>1/3/1970</th>\n",
       "      <td>USW00014821</td>\n",
       "      <td>JOHN GLENN INTERNATIONAL AIRPORT, OH US</td>\n",
       "      <td>0.04</td>\n",
       "      <td>0.7</td>\n",
       "      <td>3.0</td>\n",
       "      <td>27</td>\n",
       "      <td>15</td>\n",
       "    </tr>\n",
       "    <tr>\n",
       "      <th>1/4/1970</th>\n",
       "      <td>USW00014821</td>\n",
       "      <td>JOHN GLENN INTERNATIONAL AIRPORT, OH US</td>\n",
       "      <td>0.01</td>\n",
       "      <td>0.3</td>\n",
       "      <td>3.0</td>\n",
       "      <td>22</td>\n",
       "      <td>12</td>\n",
       "    </tr>\n",
       "    <tr>\n",
       "      <th>1/5/1970</th>\n",
       "      <td>USW00014821</td>\n",
       "      <td>JOHN GLENN INTERNATIONAL AIRPORT, OH US</td>\n",
       "      <td>0.00</td>\n",
       "      <td>0.2</td>\n",
       "      <td>3.0</td>\n",
       "      <td>36</td>\n",
       "      <td>7</td>\n",
       "    </tr>\n",
       "    <tr>\n",
       "      <th>...</th>\n",
       "      <td>...</td>\n",
       "      <td>...</td>\n",
       "      <td>...</td>\n",
       "      <td>...</td>\n",
       "      <td>...</td>\n",
       "      <td>...</td>\n",
       "      <td>...</td>\n",
       "    </tr>\n",
       "    <tr>\n",
       "      <th>9/10/2023</th>\n",
       "      <td>USW00014821</td>\n",
       "      <td>JOHN GLENN INTERNATIONAL AIRPORT, OH US</td>\n",
       "      <td>0.00</td>\n",
       "      <td>0.0</td>\n",
       "      <td>0.0</td>\n",
       "      <td>79</td>\n",
       "      <td>59</td>\n",
       "    </tr>\n",
       "    <tr>\n",
       "      <th>9/11/2023</th>\n",
       "      <td>USW00014821</td>\n",
       "      <td>JOHN GLENN INTERNATIONAL AIRPORT, OH US</td>\n",
       "      <td>0.00</td>\n",
       "      <td>0.0</td>\n",
       "      <td>0.0</td>\n",
       "      <td>81</td>\n",
       "      <td>56</td>\n",
       "    </tr>\n",
       "    <tr>\n",
       "      <th>9/12/2023</th>\n",
       "      <td>USW00014821</td>\n",
       "      <td>JOHN GLENN INTERNATIONAL AIRPORT, OH US</td>\n",
       "      <td>0.21</td>\n",
       "      <td>0.0</td>\n",
       "      <td>0.0</td>\n",
       "      <td>70</td>\n",
       "      <td>59</td>\n",
       "    </tr>\n",
       "    <tr>\n",
       "      <th>9/13/2023</th>\n",
       "      <td>USW00014821</td>\n",
       "      <td>JOHN GLENN INTERNATIONAL AIRPORT, OH US</td>\n",
       "      <td>0.00</td>\n",
       "      <td>0.0</td>\n",
       "      <td>0.0</td>\n",
       "      <td>74</td>\n",
       "      <td>55</td>\n",
       "    </tr>\n",
       "    <tr>\n",
       "      <th>9/14/2023</th>\n",
       "      <td>USW00014821</td>\n",
       "      <td>JOHN GLENN INTERNATIONAL AIRPORT, OH US</td>\n",
       "      <td>0.00</td>\n",
       "      <td>0.0</td>\n",
       "      <td>0.0</td>\n",
       "      <td>75</td>\n",
       "      <td>51</td>\n",
       "    </tr>\n",
       "  </tbody>\n",
       "</table>\n",
       "<p>19615 rows × 7 columns</p>\n",
       "</div>"
      ],
      "text/plain": [
       "               STATION                                     NAME  PRCP  SNOW  \\\n",
       "DATE                                                                          \n",
       "1/1/1970   USW00014821  JOHN GLENN INTERNATIONAL AIRPORT, OH US  0.14   2.2   \n",
       "1/2/1970   USW00014821  JOHN GLENN INTERNATIONAL AIRPORT, OH US  0.06   1.5   \n",
       "1/3/1970   USW00014821  JOHN GLENN INTERNATIONAL AIRPORT, OH US  0.04   0.7   \n",
       "1/4/1970   USW00014821  JOHN GLENN INTERNATIONAL AIRPORT, OH US  0.01   0.3   \n",
       "1/5/1970   USW00014821  JOHN GLENN INTERNATIONAL AIRPORT, OH US  0.00   0.2   \n",
       "...                ...                                      ...   ...   ...   \n",
       "9/10/2023  USW00014821  JOHN GLENN INTERNATIONAL AIRPORT, OH US  0.00   0.0   \n",
       "9/11/2023  USW00014821  JOHN GLENN INTERNATIONAL AIRPORT, OH US  0.00   0.0   \n",
       "9/12/2023  USW00014821  JOHN GLENN INTERNATIONAL AIRPORT, OH US  0.21   0.0   \n",
       "9/13/2023  USW00014821  JOHN GLENN INTERNATIONAL AIRPORT, OH US  0.00   0.0   \n",
       "9/14/2023  USW00014821  JOHN GLENN INTERNATIONAL AIRPORT, OH US  0.00   0.0   \n",
       "\n",
       "           SNWD  TMAX  TMIN  \n",
       "DATE                         \n",
       "1/1/1970    1.0    31    26  \n",
       "1/2/1970    2.0    30    24  \n",
       "1/3/1970    3.0    27    15  \n",
       "1/4/1970    3.0    22    12  \n",
       "1/5/1970    3.0    36     7  \n",
       "...         ...   ...   ...  \n",
       "9/10/2023   0.0    79    59  \n",
       "9/11/2023   0.0    81    56  \n",
       "9/12/2023   0.0    70    59  \n",
       "9/13/2023   0.0    74    55  \n",
       "9/14/2023   0.0    75    51  \n",
       "\n",
       "[19615 rows x 7 columns]"
      ]
     },
     "execution_count": 8,
     "metadata": {},
     "output_type": "execute_result"
    }
   ],
   "source": [
    "weather"
   ]
  },
  {
   "cell_type": "code",
   "execution_count": 9,
   "metadata": {
    "id": "KrYdciOUtY9X"
   },
   "outputs": [],
   "source": [
    "weather.columns = weather.columns.str.lower()"
   ]
  },
  {
   "cell_type": "code",
   "execution_count": 10,
   "metadata": {
    "colab": {
     "base_uri": "https://localhost:8080/",
     "height": 455
    },
    "id": "O4E42qzgtceu",
    "outputId": "f7e1104c-5ccf-4d6e-877f-317807bb28de"
   },
   "outputs": [
    {
     "data": {
      "text/html": [
       "<div>\n",
       "<style scoped>\n",
       "    .dataframe tbody tr th:only-of-type {\n",
       "        vertical-align: middle;\n",
       "    }\n",
       "\n",
       "    .dataframe tbody tr th {\n",
       "        vertical-align: top;\n",
       "    }\n",
       "\n",
       "    .dataframe thead th {\n",
       "        text-align: right;\n",
       "    }\n",
       "</style>\n",
       "<table border=\"1\" class=\"dataframe\">\n",
       "  <thead>\n",
       "    <tr style=\"text-align: right;\">\n",
       "      <th></th>\n",
       "      <th>station</th>\n",
       "      <th>name</th>\n",
       "      <th>prcp</th>\n",
       "      <th>snow</th>\n",
       "      <th>snwd</th>\n",
       "      <th>tmax</th>\n",
       "      <th>tmin</th>\n",
       "    </tr>\n",
       "    <tr>\n",
       "      <th>DATE</th>\n",
       "      <th></th>\n",
       "      <th></th>\n",
       "      <th></th>\n",
       "      <th></th>\n",
       "      <th></th>\n",
       "      <th></th>\n",
       "      <th></th>\n",
       "    </tr>\n",
       "  </thead>\n",
       "  <tbody>\n",
       "    <tr>\n",
       "      <th>1/1/1970</th>\n",
       "      <td>USW00014821</td>\n",
       "      <td>JOHN GLENN INTERNATIONAL AIRPORT, OH US</td>\n",
       "      <td>0.14</td>\n",
       "      <td>2.2</td>\n",
       "      <td>1.0</td>\n",
       "      <td>31</td>\n",
       "      <td>26</td>\n",
       "    </tr>\n",
       "    <tr>\n",
       "      <th>1/2/1970</th>\n",
       "      <td>USW00014821</td>\n",
       "      <td>JOHN GLENN INTERNATIONAL AIRPORT, OH US</td>\n",
       "      <td>0.06</td>\n",
       "      <td>1.5</td>\n",
       "      <td>2.0</td>\n",
       "      <td>30</td>\n",
       "      <td>24</td>\n",
       "    </tr>\n",
       "    <tr>\n",
       "      <th>1/3/1970</th>\n",
       "      <td>USW00014821</td>\n",
       "      <td>JOHN GLENN INTERNATIONAL AIRPORT, OH US</td>\n",
       "      <td>0.04</td>\n",
       "      <td>0.7</td>\n",
       "      <td>3.0</td>\n",
       "      <td>27</td>\n",
       "      <td>15</td>\n",
       "    </tr>\n",
       "    <tr>\n",
       "      <th>1/4/1970</th>\n",
       "      <td>USW00014821</td>\n",
       "      <td>JOHN GLENN INTERNATIONAL AIRPORT, OH US</td>\n",
       "      <td>0.01</td>\n",
       "      <td>0.3</td>\n",
       "      <td>3.0</td>\n",
       "      <td>22</td>\n",
       "      <td>12</td>\n",
       "    </tr>\n",
       "    <tr>\n",
       "      <th>1/5/1970</th>\n",
       "      <td>USW00014821</td>\n",
       "      <td>JOHN GLENN INTERNATIONAL AIRPORT, OH US</td>\n",
       "      <td>0.00</td>\n",
       "      <td>0.2</td>\n",
       "      <td>3.0</td>\n",
       "      <td>36</td>\n",
       "      <td>7</td>\n",
       "    </tr>\n",
       "    <tr>\n",
       "      <th>...</th>\n",
       "      <td>...</td>\n",
       "      <td>...</td>\n",
       "      <td>...</td>\n",
       "      <td>...</td>\n",
       "      <td>...</td>\n",
       "      <td>...</td>\n",
       "      <td>...</td>\n",
       "    </tr>\n",
       "    <tr>\n",
       "      <th>9/10/2023</th>\n",
       "      <td>USW00014821</td>\n",
       "      <td>JOHN GLENN INTERNATIONAL AIRPORT, OH US</td>\n",
       "      <td>0.00</td>\n",
       "      <td>0.0</td>\n",
       "      <td>0.0</td>\n",
       "      <td>79</td>\n",
       "      <td>59</td>\n",
       "    </tr>\n",
       "    <tr>\n",
       "      <th>9/11/2023</th>\n",
       "      <td>USW00014821</td>\n",
       "      <td>JOHN GLENN INTERNATIONAL AIRPORT, OH US</td>\n",
       "      <td>0.00</td>\n",
       "      <td>0.0</td>\n",
       "      <td>0.0</td>\n",
       "      <td>81</td>\n",
       "      <td>56</td>\n",
       "    </tr>\n",
       "    <tr>\n",
       "      <th>9/12/2023</th>\n",
       "      <td>USW00014821</td>\n",
       "      <td>JOHN GLENN INTERNATIONAL AIRPORT, OH US</td>\n",
       "      <td>0.21</td>\n",
       "      <td>0.0</td>\n",
       "      <td>0.0</td>\n",
       "      <td>70</td>\n",
       "      <td>59</td>\n",
       "    </tr>\n",
       "    <tr>\n",
       "      <th>9/13/2023</th>\n",
       "      <td>USW00014821</td>\n",
       "      <td>JOHN GLENN INTERNATIONAL AIRPORT, OH US</td>\n",
       "      <td>0.00</td>\n",
       "      <td>0.0</td>\n",
       "      <td>0.0</td>\n",
       "      <td>74</td>\n",
       "      <td>55</td>\n",
       "    </tr>\n",
       "    <tr>\n",
       "      <th>9/14/2023</th>\n",
       "      <td>USW00014821</td>\n",
       "      <td>JOHN GLENN INTERNATIONAL AIRPORT, OH US</td>\n",
       "      <td>0.00</td>\n",
       "      <td>0.0</td>\n",
       "      <td>0.0</td>\n",
       "      <td>75</td>\n",
       "      <td>51</td>\n",
       "    </tr>\n",
       "  </tbody>\n",
       "</table>\n",
       "<p>19615 rows × 7 columns</p>\n",
       "</div>"
      ],
      "text/plain": [
       "               station                                     name  prcp  snow  \\\n",
       "DATE                                                                          \n",
       "1/1/1970   USW00014821  JOHN GLENN INTERNATIONAL AIRPORT, OH US  0.14   2.2   \n",
       "1/2/1970   USW00014821  JOHN GLENN INTERNATIONAL AIRPORT, OH US  0.06   1.5   \n",
       "1/3/1970   USW00014821  JOHN GLENN INTERNATIONAL AIRPORT, OH US  0.04   0.7   \n",
       "1/4/1970   USW00014821  JOHN GLENN INTERNATIONAL AIRPORT, OH US  0.01   0.3   \n",
       "1/5/1970   USW00014821  JOHN GLENN INTERNATIONAL AIRPORT, OH US  0.00   0.2   \n",
       "...                ...                                      ...   ...   ...   \n",
       "9/10/2023  USW00014821  JOHN GLENN INTERNATIONAL AIRPORT, OH US  0.00   0.0   \n",
       "9/11/2023  USW00014821  JOHN GLENN INTERNATIONAL AIRPORT, OH US  0.00   0.0   \n",
       "9/12/2023  USW00014821  JOHN GLENN INTERNATIONAL AIRPORT, OH US  0.21   0.0   \n",
       "9/13/2023  USW00014821  JOHN GLENN INTERNATIONAL AIRPORT, OH US  0.00   0.0   \n",
       "9/14/2023  USW00014821  JOHN GLENN INTERNATIONAL AIRPORT, OH US  0.00   0.0   \n",
       "\n",
       "           snwd  tmax  tmin  \n",
       "DATE                         \n",
       "1/1/1970    1.0    31    26  \n",
       "1/2/1970    2.0    30    24  \n",
       "1/3/1970    3.0    27    15  \n",
       "1/4/1970    3.0    22    12  \n",
       "1/5/1970    3.0    36     7  \n",
       "...         ...   ...   ...  \n",
       "9/10/2023   0.0    79    59  \n",
       "9/11/2023   0.0    81    56  \n",
       "9/12/2023   0.0    70    59  \n",
       "9/13/2023   0.0    74    55  \n",
       "9/14/2023   0.0    75    51  \n",
       "\n",
       "[19615 rows x 7 columns]"
      ]
     },
     "execution_count": 10,
     "metadata": {},
     "output_type": "execute_result"
    }
   ],
   "source": [
    "weather"
   ]
  },
  {
   "cell_type": "code",
   "execution_count": 11,
   "metadata": {
    "id": "-MVNGz9TvrOv"
   },
   "outputs": [],
   "source": [
    "weather = weather.ffill()"
   ]
  },
  {
   "cell_type": "code",
   "execution_count": 12,
   "metadata": {
    "colab": {
     "base_uri": "https://localhost:8080/"
    },
    "id": "pBsST4n4wOEt",
    "outputId": "8ae5c6f9-08c4-456b-9988-efbcf94639f9"
   },
   "outputs": [
    {
     "data": {
      "text/plain": [
       "station    0\n",
       "name       0\n",
       "prcp       0\n",
       "snow       0\n",
       "snwd       0\n",
       "tmax       0\n",
       "tmin       0\n",
       "dtype: int64"
      ]
     },
     "execution_count": 12,
     "metadata": {},
     "output_type": "execute_result"
    }
   ],
   "source": [
    "weather.apply(pd.isnull).sum()"
   ]
  },
  {
   "cell_type": "code",
   "execution_count": 13,
   "metadata": {},
   "outputs": [
    {
     "data": {
      "text/plain": [
       "station     object\n",
       "name        object\n",
       "prcp       float64\n",
       "snow       float64\n",
       "snwd       float64\n",
       "tmax         int64\n",
       "tmin         int64\n",
       "dtype: object"
      ]
     },
     "execution_count": 13,
     "metadata": {},
     "output_type": "execute_result"
    }
   ],
   "source": [
    "weather.dtypes"
   ]
  },
  {
   "cell_type": "code",
   "execution_count": 14,
   "metadata": {},
   "outputs": [
    {
     "data": {
      "text/plain": [
       "Index(['1/1/1970', '1/2/1970', '1/3/1970', '1/4/1970', '1/5/1970', '1/6/1970',\n",
       "       '1/7/1970', '1/8/1970', '1/9/1970', '1/10/1970',\n",
       "       ...\n",
       "       '9/5/2023', '9/6/2023', '9/7/2023', '9/8/2023', '9/9/2023', '9/10/2023',\n",
       "       '9/11/2023', '9/12/2023', '9/13/2023', '9/14/2023'],\n",
       "      dtype='object', name='DATE', length=19615)"
      ]
     },
     "execution_count": 14,
     "metadata": {},
     "output_type": "execute_result"
    }
   ],
   "source": [
    "weather.index"
   ]
  },
  {
   "cell_type": "code",
   "execution_count": 15,
   "metadata": {},
   "outputs": [],
   "source": [
    "weather.index = pd.to_datetime(weather.index)"
   ]
  },
  {
   "cell_type": "code",
   "execution_count": 16,
   "metadata": {},
   "outputs": [
    {
     "data": {
      "text/plain": [
       "DatetimeIndex(['1970-01-01', '1970-01-02', '1970-01-03', '1970-01-04',\n",
       "               '1970-01-05', '1970-01-06', '1970-01-07', '1970-01-08',\n",
       "               '1970-01-09', '1970-01-10',\n",
       "               ...\n",
       "               '2023-09-05', '2023-09-06', '2023-09-07', '2023-09-08',\n",
       "               '2023-09-09', '2023-09-10', '2023-09-11', '2023-09-12',\n",
       "               '2023-09-13', '2023-09-14'],\n",
       "              dtype='datetime64[ns]', name='DATE', length=19615, freq=None)"
      ]
     },
     "execution_count": 16,
     "metadata": {},
     "output_type": "execute_result"
    }
   ],
   "source": [
    "weather.index"
   ]
  },
  {
   "cell_type": "code",
   "execution_count": 17,
   "metadata": {},
   "outputs": [
    {
     "data": {
      "text/plain": [
       "Index([1970, 1970, 1970, 1970, 1970, 1970, 1970, 1970, 1970, 1970,\n",
       "       ...\n",
       "       2023, 2023, 2023, 2023, 2023, 2023, 2023, 2023, 2023, 2023],\n",
       "      dtype='int32', name='DATE', length=19615)"
      ]
     },
     "execution_count": 17,
     "metadata": {},
     "output_type": "execute_result"
    }
   ],
   "source": [
    "weather.index.year"
   ]
  },
  {
   "cell_type": "code",
   "execution_count": 18,
   "metadata": {},
   "outputs": [
    {
     "data": {
      "text/plain": [
       "DATE\n",
       "1970    365\n",
       "1971    365\n",
       "1972    366\n",
       "1973    365\n",
       "1974    365\n",
       "1975    365\n",
       "1976    366\n",
       "1977    365\n",
       "1978    365\n",
       "1979    365\n",
       "1980    366\n",
       "1981    365\n",
       "1982    365\n",
       "1983    365\n",
       "1984    366\n",
       "1985    365\n",
       "1986    365\n",
       "1987    365\n",
       "1988    366\n",
       "1989    365\n",
       "1990    365\n",
       "1991    365\n",
       "1992    366\n",
       "1993    365\n",
       "1994    365\n",
       "1995    365\n",
       "1996    366\n",
       "1997    365\n",
       "1998    365\n",
       "1999    365\n",
       "2000    366\n",
       "2001    365\n",
       "2002    365\n",
       "2003    365\n",
       "2004    366\n",
       "2005    365\n",
       "2006    365\n",
       "2007    365\n",
       "2008    366\n",
       "2009    365\n",
       "2010    365\n",
       "2011    365\n",
       "2012    366\n",
       "2013    365\n",
       "2014    365\n",
       "2015    365\n",
       "2016    366\n",
       "2017    365\n",
       "2018    365\n",
       "2019    365\n",
       "2020    366\n",
       "2021    365\n",
       "2022    365\n",
       "2023    257\n",
       "Name: count, dtype: int64"
      ]
     },
     "execution_count": 18,
     "metadata": {},
     "output_type": "execute_result"
    }
   ],
   "source": [
    "weather.index.year.value_counts().sort_index()"
   ]
  },
  {
   "cell_type": "code",
   "execution_count": 19,
   "metadata": {},
   "outputs": [
    {
     "ename": "ImportError",
     "evalue": "matplotlib is required for plotting when the default backend \"matplotlib\" is selected.",
     "output_type": "error",
     "traceback": [
      "\u001b[1;31m---------------------------------------------------------------------------\u001b[0m",
      "\u001b[1;31mImportError\u001b[0m                               Traceback (most recent call last)",
      "Cell \u001b[1;32mIn[19], line 1\u001b[0m\n\u001b[1;32m----> 1\u001b[0m \u001b[43mweather\u001b[49m\u001b[43m[\u001b[49m\u001b[38;5;124;43m\"\u001b[39;49m\u001b[38;5;124;43msnow\u001b[39;49m\u001b[38;5;124;43m\"\u001b[39;49m\u001b[43m]\u001b[49m\u001b[38;5;241;43m.\u001b[39;49m\u001b[43mplot\u001b[49m\u001b[43m(\u001b[49m\u001b[43m)\u001b[49m\n",
      "File \u001b[1;32m~\\AppData\\Local\\Programs\\Python\\Python311\\Lib\\site-packages\\pandas\\plotting\\_core.py:951\u001b[0m, in \u001b[0;36mPlotAccessor.__call__\u001b[1;34m(self, *args, **kwargs)\u001b[0m\n\u001b[0;32m    950\u001b[0m \u001b[38;5;28;01mdef\u001b[39;00m \u001b[38;5;21m__call__\u001b[39m(\u001b[38;5;28mself\u001b[39m, \u001b[38;5;241m*\u001b[39margs, \u001b[38;5;241m*\u001b[39m\u001b[38;5;241m*\u001b[39mkwargs):\n\u001b[1;32m--> 951\u001b[0m     plot_backend \u001b[38;5;241m=\u001b[39m \u001b[43m_get_plot_backend\u001b[49m\u001b[43m(\u001b[49m\u001b[43mkwargs\u001b[49m\u001b[38;5;241;43m.\u001b[39;49m\u001b[43mpop\u001b[49m\u001b[43m(\u001b[49m\u001b[38;5;124;43m\"\u001b[39;49m\u001b[38;5;124;43mbackend\u001b[39;49m\u001b[38;5;124;43m\"\u001b[39;49m\u001b[43m,\u001b[49m\u001b[43m \u001b[49m\u001b[38;5;28;43;01mNone\u001b[39;49;00m\u001b[43m)\u001b[49m\u001b[43m)\u001b[49m\n\u001b[0;32m    953\u001b[0m     x, y, kind, kwargs \u001b[38;5;241m=\u001b[39m \u001b[38;5;28mself\u001b[39m\u001b[38;5;241m.\u001b[39m_get_call_args(\n\u001b[0;32m    954\u001b[0m         plot_backend\u001b[38;5;241m.\u001b[39m\u001b[38;5;18m__name__\u001b[39m, \u001b[38;5;28mself\u001b[39m\u001b[38;5;241m.\u001b[39m_parent, args, kwargs\n\u001b[0;32m    955\u001b[0m     )\n\u001b[0;32m    957\u001b[0m     kind \u001b[38;5;241m=\u001b[39m \u001b[38;5;28mself\u001b[39m\u001b[38;5;241m.\u001b[39m_kind_aliases\u001b[38;5;241m.\u001b[39mget(kind, kind)\n",
      "File \u001b[1;32m~\\AppData\\Local\\Programs\\Python\\Python311\\Lib\\site-packages\\pandas\\plotting\\_core.py:1947\u001b[0m, in \u001b[0;36m_get_plot_backend\u001b[1;34m(backend)\u001b[0m\n\u001b[0;32m   1944\u001b[0m \u001b[38;5;28;01mif\u001b[39;00m backend_str \u001b[38;5;129;01min\u001b[39;00m _backends:\n\u001b[0;32m   1945\u001b[0m     \u001b[38;5;28;01mreturn\u001b[39;00m _backends[backend_str]\n\u001b[1;32m-> 1947\u001b[0m module \u001b[38;5;241m=\u001b[39m \u001b[43m_load_backend\u001b[49m\u001b[43m(\u001b[49m\u001b[43mbackend_str\u001b[49m\u001b[43m)\u001b[49m\n\u001b[0;32m   1948\u001b[0m _backends[backend_str] \u001b[38;5;241m=\u001b[39m module\n\u001b[0;32m   1949\u001b[0m \u001b[38;5;28;01mreturn\u001b[39;00m module\n",
      "File \u001b[1;32m~\\AppData\\Local\\Programs\\Python\\Python311\\Lib\\site-packages\\pandas\\plotting\\_core.py:1877\u001b[0m, in \u001b[0;36m_load_backend\u001b[1;34m(backend)\u001b[0m\n\u001b[0;32m   1875\u001b[0m         module \u001b[38;5;241m=\u001b[39m importlib\u001b[38;5;241m.\u001b[39mimport_module(\u001b[38;5;124m\"\u001b[39m\u001b[38;5;124mpandas.plotting._matplotlib\u001b[39m\u001b[38;5;124m\"\u001b[39m)\n\u001b[0;32m   1876\u001b[0m     \u001b[38;5;28;01mexcept\u001b[39;00m \u001b[38;5;167;01mImportError\u001b[39;00m:\n\u001b[1;32m-> 1877\u001b[0m         \u001b[38;5;28;01mraise\u001b[39;00m \u001b[38;5;167;01mImportError\u001b[39;00m(\n\u001b[0;32m   1878\u001b[0m             \u001b[38;5;124m\"\u001b[39m\u001b[38;5;124mmatplotlib is required for plotting when the \u001b[39m\u001b[38;5;124m\"\u001b[39m\n\u001b[0;32m   1879\u001b[0m             \u001b[38;5;124m'\u001b[39m\u001b[38;5;124mdefault backend \u001b[39m\u001b[38;5;124m\"\u001b[39m\u001b[38;5;124mmatplotlib\u001b[39m\u001b[38;5;124m\"\u001b[39m\u001b[38;5;124m is selected.\u001b[39m\u001b[38;5;124m'\u001b[39m\n\u001b[0;32m   1880\u001b[0m         ) \u001b[38;5;28;01mfrom\u001b[39;00m \u001b[38;5;28;01mNone\u001b[39;00m\n\u001b[0;32m   1881\u001b[0m     \u001b[38;5;28;01mreturn\u001b[39;00m module\n\u001b[0;32m   1883\u001b[0m found_backend \u001b[38;5;241m=\u001b[39m \u001b[38;5;28;01mFalse\u001b[39;00m\n",
      "\u001b[1;31mImportError\u001b[0m: matplotlib is required for plotting when the default backend \"matplotlib\" is selected."
     ]
    }
   ],
   "source": [
    "weather[\"snow\"].plot()"
   ]
  },
  {
   "cell_type": "code",
   "execution_count": 20,
   "metadata": {},
   "outputs": [
    {
     "ename": "ModuleNotFoundError",
     "evalue": "No module named 'matplotlib'",
     "output_type": "error",
     "traceback": [
      "\u001b[1;31m---------------------------------------------------------------------------\u001b[0m",
      "\u001b[1;31mModuleNotFoundError\u001b[0m                       Traceback (most recent call last)",
      "Cell \u001b[1;32mIn[20], line 1\u001b[0m\n\u001b[1;32m----> 1\u001b[0m \u001b[38;5;28;01mimport\u001b[39;00m \u001b[38;5;21;01mmatplotlib\u001b[39;00m\u001b[38;5;21;01m.\u001b[39;00m\u001b[38;5;21;01mpyplot\u001b[39;00m \u001b[38;5;28;01mas\u001b[39;00m \u001b[38;5;21;01mplt\u001b[39;00m\n\u001b[0;32m      3\u001b[0m plt\u001b[38;5;241m.\u001b[39mplot([\u001b[38;5;241m0\u001b[39m, \u001b[38;5;241m1\u001b[39m, \u001b[38;5;241m2\u001b[39m, \u001b[38;5;241m3\u001b[39m, \u001b[38;5;241m4\u001b[39m], [\u001b[38;5;241m0\u001b[39m, \u001b[38;5;241m1\u001b[39m, \u001b[38;5;241m4\u001b[39m, \u001b[38;5;241m9\u001b[39m, \u001b[38;5;241m16\u001b[39m])\n\u001b[0;32m      4\u001b[0m plt\u001b[38;5;241m.\u001b[39mxlabel(\u001b[38;5;124m'\u001b[39m\u001b[38;5;124mX-axis\u001b[39m\u001b[38;5;124m'\u001b[39m)\n",
      "\u001b[1;31mModuleNotFoundError\u001b[0m: No module named 'matplotlib'"
     ]
    }
   ],
   "source": [
    "import matplotlib.pyplot as plt\n",
    "\n",
    "plt.plot([0, 1, 2, 3, 4], [0, 1, 4, 9, 16])\n",
    "plt.xlabel('X-axis')\n",
    "plt.ylabel('Y-axis')\n",
    "plt.title('Sample Plot')\n",
    "plt.show()\n"
   ]
  },
  {
   "cell_type": "code",
   "execution_count": null,
   "metadata": {},
   "outputs": [],
   "source": []
  }
 ],
 "metadata": {
  "colab": {
   "authorship_tag": "ABX9TyP5K+egj2YE6u8ArXdwLJKy",
   "include_colab_link": true,
   "provenance": []
  },
  "kernelspec": {
   "display_name": "Python 3 (ipykernel)",
   "language": "python",
   "name": "python3"
  },
  "language_info": {
   "codemirror_mode": {
    "name": "ipython",
    "version": 3
   },
   "file_extension": ".py",
   "mimetype": "text/x-python",
   "name": "python",
   "nbconvert_exporter": "python",
   "pygments_lexer": "ipython3",
   "version": "3.11.5"
  }
 },
 "nbformat": 4,
 "nbformat_minor": 4
}
